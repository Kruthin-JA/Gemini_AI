{
  "nbformat": 4,
  "nbformat_minor": 0,
  "metadata": {
    "colab": {
      "provenance": []
    },
    "kernelspec": {
      "name": "python3",
      "display_name": "Python 3"
    },
    "language_info": {
      "name": "python"
    }
  },
  "cells": [
    {
      "cell_type": "code",
      "execution_count": 2,
      "metadata": {
        "id": "Kz0U05_8Xmaz"
      },
      "outputs": [],
      "source": [
        "import google.generativeai as genai\n",
        "from google.colab import userdata\n",
        "\n",
        "GOOGLE_API_KEY=userdata.get('GOOGLE_API_KEY')\n",
        "genai.configure(api_key=GOOGLE_API_KEY)"
      ]
    },
    {
      "cell_type": "code",
      "source": [
        "from google import genai\n",
        "from google.genai import types\n",
        "client=genai.Client(api_key=GOOGLE_API_KEY)"
      ],
      "metadata": {
        "id": "XreXVWNfYEgk"
      },
      "execution_count": 6,
      "outputs": []
    },
    {
      "cell_type": "code",
      "source": [
        "import pathlib\n",
        "import textwrap\n",
        "\n",
        "from IPython.display import display, Markdown\n",
        "\n",
        "def to_markdown(text):\n",
        "    text = text.replace('*', ' - ')\n",
        "    return Markdown(textwrap.indent(text, '> ', predicate=lambda _: True))\n"
      ],
      "metadata": {
        "id": "j5uMK2wGYdN-"
      },
      "execution_count": 7,
      "outputs": []
    },
    {
      "cell_type": "code",
      "source": [
        "import PIL.Image\n",
        "import google.generativeai as genai # Import the correct module using its original name\n",
        "\n",
        "img = PIL.Image.open('/content/1123012.jpg')\n",
        "img\n",
        "\n",
        "# Use google.generativeai, avoiding the variable name collision\n",
        "model = genai.GenerativeModel('gemini-1.5-flash')\n",
        "response = model.generate_content([\"Write a short, engaging post based on this picture. It should include a description of the photo and talk about picture.\", img],stream=True)\n",
        "response.resolve()"
      ],
      "metadata": {
        "id": "Vidzo2itY8mE"
      },
      "execution_count": 14,
      "outputs": []
    },
    {
      "cell_type": "code",
      "source": [
        "to_markdown(response.text)"
      ],
      "metadata": {
        "colab": {
          "base_uri": "https://localhost:8080/",
          "height": 266
        },
        "id": "lxJl6kvlZoGN",
        "outputId": "4c3d7cc2-64a8-480d-e953-5b29b34c9ca5"
      },
      "execution_count": 15,
      "outputs": [
        {
          "output_type": "execute_result",
          "data": {
            "text/plain": [
              "<IPython.core.display.Markdown object>"
            ],
            "text/markdown": "> ## A Moment of Tranquility\n> \n> This breathtaking digital painting captures a scene of serene beauty.  The focal point is a lone figure, silhouetted against a vibrant sunset, reaching out to a majestic hawk in flight. The hawk, caught mid-air, seems to respond to the person's outstretched hand, creating a powerful sense of connection between human and nature.\n> \n> The setting is equally captivating. A large, ancient-looking tree stands proudly in a gently sloping field, its branches reaching towards the twilight sky.  Mountains rise in the distance, softly bathed in the warm hues of the setting sun, and the sky above is a rich tapestry of purples, pinks, and deep blues, speckled with countless stars. The overall feel is one of quiet contemplation and peaceful coexistence.\n> \n> What strikes me most about the image isn't just the technical skill evident in the painting—the soft blending of colors, the delicate detail in the grass and clouds—but the emotion it evokes.  It whispers tales of freedom, connection, and the quiet awe inspired by the beauty of the natural world.  It's a scene that invites introspection, a moment frozen in time to remind us of the simple wonder that surrounds us.  Do you see yourself in this image, feeling this sense of peaceful connection? Share your thoughts below!\n"
          },
          "metadata": {},
          "execution_count": 15
        }
      ]
    },
    {
      "cell_type": "code",
      "source": [
        "response = model.generate_content([\"Generate an accurate caption for this image.\", img])\n",
        "print(response.text)"
      ],
      "metadata": {
        "colab": {
          "base_uri": "https://localhost:8080/",
          "height": 332
        },
        "id": "iQFSyVRyaZgh",
        "outputId": "94d5889f-b818-44ff-f204-bb5bfd728d13"
      },
      "execution_count": 16,
      "outputs": [
        {
          "output_type": "stream",
          "name": "stdout",
          "text": [
            "Here's a caption for the image:\n",
            "\n",
            "**Option 1 (More evocative):**\n",
            "\n",
            "\"A lone figure silhouetted against a breathtaking sunset, shares a moment of connection with a majestic bird beneath the watchful gaze of an ancient tree. The serenity of the scene hints at a deeper, untold story.\"\n",
            "\n",
            "**Option 2 (More descriptive):**\n",
            "\n",
            "\"Digital painting depicting a person releasing a hawk or falcon at sunset.  A large tree stands in the foreground, with mountains visible in the distance under a purple and pink sky filled with stars.\"\n",
            "\n",
            "**Option 3 (Short & sweet):**\n",
            "\n",
            "\"Sunset serenity.\"\n",
            "\n",
            "\n",
            "Choose the option that best suits your needs and intended audience.\n",
            "\n"
          ]
        }
      ]
    },
    {
      "cell_type": "code",
      "source": [
        "from PIL import Image\n",
        "\n",
        "# Open an image\n",
        "image_path = \"/content/1123012.jpg\"\n",
        "image = Image.open(image_path)\n",
        "\n",
        "# Generate a description of the image\n",
        "response = model.generate_content([\"Describe this image in detail.\", image])\n",
        "\n",
        "print(response.text)\n"
      ],
      "metadata": {
        "colab": {
          "base_uri": "https://localhost:8080/",
          "height": 367
        },
        "id": "ik3G8zmZeNFm",
        "outputId": "4eeea7a2-e4ba-43f5-8035-bc3a87087794"
      },
      "execution_count": 17,
      "outputs": [
        {
          "output_type": "stream",
          "name": "stdout",
          "text": [
            "Here's a description of the image:\n",
            "\n",
            "The artwork presents a breathtaking landscape bathed in the warm hues of a sunset. \n",
            "\n",
            "\n",
            "Here's a breakdown of the scene:\n",
            "\n",
            "* **Sky:** The sky dominates the upper two-thirds of the image, filled with a dramatic display of purple, pink, and dark-blue clouds. Stars are visible, adding a touch of magic and depth.\n",
            "\n",
            "* **Foreground:** The immediate foreground is composed of tall, slightly windblown grasses, suggesting a gentle breeze. The grasses are dark green and purple, adding to the overall mystical atmosphere.\n",
            "\n",
            "* **Midground:** The central focus is a large, full, dark-green tree with thick, spreading branches. It sits in a gently rolling field of golden-yellowish grass, contrasting with the darker colors of the surrounding landscape. A figure, seemingly a person, stands near the tree, extending their hand towards a bird of prey in flight.\n",
            "\n",
            "* **Background:** In the far background, silhouetted mountains rise against the vibrant sunset sky, adding a sense of distance and scale.\n",
            "\n",
            "* **Figure and Bird:** The figure appears to be wearing clothing reminiscent of fantasy or medieval attire. They are positioned to the left of the tree, with their back to the viewer, creating a sense of mystery. A bird, possibly an eagle or hawk, is shown in flight, caught in the act of descending or being released by the figure.\n",
            "\n",
            "* **Overall Mood:** The overall mood is serene, magical, and slightly melancholic, reminiscent of fantasy art or a game's concept art. The colors are rich and blend well, creating a harmonious visual composition. The scene evokes a feeling of tranquility, yet there’s a touch of adventure implicit in the figure interacting with the bird of prey.\n",
            "\n"
          ]
        }
      ]
    },
    {
      "cell_type": "code",
      "source": [
        "response = model.generate_content([\"What emotion can you describe from the image.\", image])\n",
        "\n",
        "print(response.text)"
      ],
      "metadata": {
        "colab": {
          "base_uri": "https://localhost:8080/",
          "height": 72
        },
        "id": "_kXbQERXgwOt",
        "outputId": "ab1a16aa-c061-45b8-a77b-de79d8295745"
      },
      "execution_count": 18,
      "outputs": [
        {
          "output_type": "stream",
          "name": "stdout",
          "text": [
            "The image evokes a feeling of serenity and peace.  The soft colors of the sunset, the lone tree, and the person interacting gently with a bird all contribute to a sense of calm and tranquility. There's also a hint of freedom and connection with nature.\n",
            "\n"
          ]
        }
      ]
    },
    {
      "cell_type": "code",
      "source": [],
      "metadata": {
        "id": "WBQutuN_hasX"
      },
      "execution_count": null,
      "outputs": []
    }
  ]
}